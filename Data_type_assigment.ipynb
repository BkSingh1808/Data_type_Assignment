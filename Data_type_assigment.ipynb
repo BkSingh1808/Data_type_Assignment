{
  "nbformat": 4,
  "nbformat_minor": 0,
  "metadata": {
    "colab": {
      "provenance": []
    },
    "kernelspec": {
      "name": "python3",
      "display_name": "Python 3"
    },
    "language_info": {
      "name": "python"
    }
  },
  "cells": [
    {
      "cell_type": "code",
      "execution_count": null,
      "metadata": {
        "id": "llo4w1ZfmKvM"
      },
      "outputs": [],
      "source": []
    },
    {
      "cell_type": "markdown",
      "source": [
        "# DATA TYPES AND STRUCTURES QUESTION"
      ],
      "metadata": {
        "id": "pYqK1D8Wnu-Q"
      }
    },
    {
      "cell_type": "markdown",
      "source": [
        "1. What are data structures, and why are they important?\n",
        "   -  Data Structures is the way of storing and organizing the data in the structured format Python has built-in support for several data structures, such as lists, dictionaries, and sets. Other data structures can be implemented using Python classes and objects, such as linked lists, stacks, queues etc.\n",
        "   **Importance of data structures:-**\n",
        "    Efficient-The right data structure leads to faster and more memory-efficient algorithms.\n",
        "    Organized Data Management-Data structures help in organizing and storing data logically.\n",
        "    Scalability-Choosing the right structure helps applications handle large data volumes efficiently.\n",
        "    Foundation for Algorithms.\n",
        "\n",
        "2. Explain the difference between mutable and immutable data types with examples.\n",
        "   - \tMutable are the data types that can be changed after creation, means their content or values can be modified. Some mutable data types-list, dict and sets.\n",
        "   For Example-\n",
        "      list = [1, 2, 3]\n",
        "      list[0] = 10 --> Modifying the first element\n",
        "      print(list)\n",
        "   Output-[10,2,3]\n",
        "   Immutable are the data types that cannot be changed after creation. Any \"change\" creates a new object. Some Immutable data types-int, float, string, tuple etc.\n",
        "   For Example\n",
        "      x = \"hello\"\n",
        "      x = x + \" world\"\n",
        "      print(x)\n",
        "3. What are the main differences between lists and tuples in Python.\n",
        "  - \tBoth lists and tuples are used to store collections of items but the  main difference is  that lists are mutable and syntax is written in      square brackets[]and tuples are immutable  and the syntax is written in parenthesis().\n",
        "\n",
        "4. Describe how dictionaries store data.\n",
        "   -   A dictionary in Python is a built-in data structure that stores   key-value pairs and It is unordered.\n",
        "Example-\n",
        "dict = {\"name\": \"Mayank\", \"age\": 25}\n",
        "print(dict[\"name\"])  -->(\"name\") = stores (\"name\", \"Alice\"),(\"age\")= stores (\"age\", 30)\n",
        "Output: Mayank\n",
        "\n",
        "5.  Why might you use a set instead of a list in Python.\n",
        "  - \tA set and a list both store collections of items but\n",
        "    •\tSets only store unique items.\n",
        "    •\t(In) operator is much faster with sets than lists.\n",
        "    •\tSets are unordered\n",
        "    •\tSets support mathematical set operations.\n",
        "\n",
        "6.  What is a string in Python, and how is it different from a list?\n",
        "   -  \tA string in Python is a sequence of characters, used to store and manipulate text and each character in the string can be accessed using indexing.\n",
        "     For Example-\n",
        "       My_string=”Hello World”\n",
        "       Print(My_string)\n",
        "      Output-“Hello World”\n",
        "      If we talk about difference in string we can store only characters and is immutable in nature but list can contain any data type like int, string  etc.\n",
        "      Example-\n",
        "        text = \"cat\"\n",
        "        text[0] = \"b\"   -->Error: strings are immutable\n",
        "        new_text = \"b\" + text[1:]  -->by this way we can mutate it.\n",
        "        print(new_text)  -->Output: \"bat\"\n",
        "\n",
        "        items = [\"c\", \"a\", \"t\"]\n",
        "        items[0] = \"b\"   --> Lists are mutable\n",
        "        print(items)    -->Output: [\"b\", \"a\", \"t\"]\n",
        "\n",
        "7. How do tuples ensure data integrity in Python?\n",
        "  -  Tuples ensure data integrity by being immutable and making them ideal for storing fixed, unchangeable sets of related data that must remain consistent and secure across a program.\n",
        "    Example-\n",
        "      user_info = (\"Mayank\", 30, \"Lucknow\")\n",
        "      user_info[1] = 35\n",
        "      print(user_info)\n",
        "      Output- Error\n",
        "\n",
        "8. What is a hash table, and how does it relate to dictionaries in Python.\n",
        "  -  A hash table is a data structure that provides fast access to data using key-value pairs. It uses a hash function to compute an index (or \"hash code\") into an array of buckets or slots, from which the desired value can be found quickly.\n",
        "  In Python, the built-in dict type is implemented using a hash table.\n",
        "  Example:\n",
        "  my_dict = {'apple': 3, 'banana': 5}\n",
        "  print(my_dict['apple'])  --> Output: 3\n",
        "  'apple' is the key and 3 is the value.\n",
        "  Python internally computes a hash of 'apple' to determine where to store or find its value in memory.\n",
        "\n",
        "9. Can lists contain different data types in Python?\n",
        "  - \tYes, lists can contain different data types, as lists in python are heterogeneous, that means they can store elements of different data types in the same list.\n",
        "\n",
        "10.  Explain why strings are immutable in Python?\n",
        "  -  Strings are immutable in Python, beacause once a string is created, it cannot be changed. Any operation that seems to modify a string actually creates a new string.\n",
        "\n",
        "11. What advantages do dictionaries offer over lists for certain tasks?\n",
        "   -  Advantages do dictionaries offer over lists for certain tasks are-\n",
        "     1.Dictionaries allow fast access to values using keys.\n",
        "     2.Dictionaries make your code more readable by using descriptive keys instead of numeric indices.\n",
        "     3.If the order of items doesn't matter, dictionaries are ideal for storing data as key-value pairs, like configurations, object attributes, or mappings.\n",
        "     4.Dictionaries automatically prevent duplicate keys, which is useful when you need a unique identifier for each value.\n",
        "\n",
        "12. Describe a scenario where using a tuple would be preferable over a list?\n",
        "   -  A tuple is preferable over a list when you want to represent fixed, unchangeable data.\n",
        "   Tuples can be used as dictionary keys or stored in sets, because they are immutable.\n",
        "   Imagine you're working on a program that handles GPS data:\n",
        "   location = (40.7128, -74.0060) --> Here the coordinates cant be changed.\n",
        "\n",
        "13.  How do sets handle duplicate values in Python?\n",
        "   -  In Python, sets automatically eliminates duplicate values. When you create or update a set, any duplicates are removed silently, because a set is a collection of unique, unordered elements.\n",
        "   For Example:\n",
        "       my_set = {1, 2, 2, 3, 3, 3}\n",
        "       print(my_set)\n",
        "   Output: {1,2,3}\n",
        "\n",
        "14.  How does the “in” keyword work differently for lists and dictionaries?\n",
        "   -  The in keyword is used to check for membership in a collection, but its behavior differs depending on the type of collection — particularly between lists and dictionaries.\n",
        "   \"in\" with Lists:\n",
        "   fruits = ['apple', 'banana', 'cherry']\n",
        "   print('banana' in fruits)\n",
        "   Checks if a value exists in the list or not.\n",
        "   \"in\" with Dictionary:\n",
        "   prices = {'apple': 1.0, 'banana': 0.5}\n",
        "   print('banana' in prices)\n",
        "   Checks if a key exists in the dictionary.\n",
        "\n",
        "15. Can you modify the elements of a tuple? Explain why or why not?\n",
        "  -  No, you cannot modify the elements of a tuple in Python because tuple is immutable and Once a tuple is created, its elements cannot be changed, added to, or removed.\n",
        "\n",
        "\n",
        "16. What is a nested dictionary, and give an example of its use case?\n",
        "  -  A nested dictionary in Python is a dictionary where one or more values are themselves dictionaries. This creates a hierarchy of key-value pairs, which is useful for modeling structured or grouped data.\n",
        "\n",
        "  Example:\n",
        "  students = {\n",
        "    \"sachin\": {\n",
        "        \"age\": 20,\n",
        "        \"grades\": {\"Math\": 90, \"English\": 85}\n",
        "    },\n",
        "    \"satyam\": {\n",
        "        \"age\": 22,\n",
        "        \"grades\": {\"Math\": 88, \"English\": 92}\n",
        "    }\n",
        "}\n",
        "\n",
        "17.  Describe the time complexity of accessing elements in a dictionary?\n",
        "   -  In Python, accessing an element in a dictionary (i.e., using dict[key]) is typically:  O(1) — Constant time, on average.\n",
        "\n",
        "18. In what situations are lists preferred over dictionaries?\n",
        "   -  Lists are preferred over dictionaries in Python when:\n",
        "     1.Use a list when you need to access elements by position.\n",
        "     2.If you're just storing a collection of values, without needing to label each one, a list is simpler and more memory-efficient.\n",
        "     3.Lists are ideal for loops where you're processing elements in order.\n",
        "     4.Lists can contain duplicate values, unlike dictionaries.\n",
        "     5.Lists support efficient indexing, slicing, and reversing.\n",
        "\n",
        "19. Why are dictionaries considered unordered, and how does that affect data retrieval?\n",
        "   -  Dictionaries were unordered because:\n",
        "      1.They use hash tables internally to store key-value pairs.\n",
        "      2.Keys are placed in the hash table based on their hash value, not insertion order.\n",
        "      3.This means the order of keys when you iterate over the dictionary was arbitrary and could change.\n",
        "\n",
        "20.  Explain the difference between a list and a dictionary in terms of data retrieval.\n",
        "   -  1.You retrieve elements in list by their position (index) in the list and where as in dictionary by their unique key.\n",
        "      2.To check if a value exists ('banana' in fruits), Python searches the list from start to end but in dictionary Python uses a hash function to jump directly to the key’s value.\n",
        "      3.Time complexity of lists is O(1) i.e very fast but in dictionary is O(1) on average very fast.\n",
        "\n",
        "\n",
        "\n",
        "\n",
        "\n",
        "\n",
        "\n"
      ],
      "metadata": {
        "id": "-lYjhctjn23W"
      }
    },
    {
      "cell_type": "markdown",
      "source": [
        "# PRACTICAL PORTION"
      ],
      "metadata": {
        "id": "z1Bl5rMX6gWZ"
      }
    },
    {
      "cell_type": "code",
      "source": [
        "# 1.Write a code to create a string with your name and print it."
      ],
      "metadata": {
        "id": "6lT_uzqW6jWH"
      },
      "execution_count": 1,
      "outputs": []
    },
    {
      "cell_type": "code",
      "source": [
        "my_name=\"Mayank Veer singh\"\n",
        "print(\"My name is\",my_name)"
      ],
      "metadata": {
        "colab": {
          "base_uri": "https://localhost:8080/"
        },
        "id": "c8Q4lB5i6nQb",
        "outputId": "dc544c2d-b6c3-4617-95dc-152c7f7317b6"
      },
      "execution_count": 4,
      "outputs": [
        {
          "output_type": "stream",
          "name": "stdout",
          "text": [
            "My name is Mayank Veer singh\n"
          ]
        }
      ]
    },
    {
      "cell_type": "code",
      "source": [
        "# 2.Write a code to find the length of the string \"Hello World\"?"
      ],
      "metadata": {
        "id": "uqPpNQYI69DZ"
      },
      "execution_count": null,
      "outputs": []
    },
    {
      "cell_type": "code",
      "source": [
        "name=\"Hello World\"\n",
        "length=len(name)\n",
        "print(\"The length of string is:\",length)"
      ],
      "metadata": {
        "colab": {
          "base_uri": "https://localhost:8080/"
        },
        "id": "LqUYRn4a67DN",
        "outputId": "0a1d2a1b-7601-42b0-eb36-12936c66aacc"
      },
      "execution_count": 11,
      "outputs": [
        {
          "output_type": "stream",
          "name": "stdout",
          "text": [
            "The length of string is: 11\n"
          ]
        }
      ]
    },
    {
      "cell_type": "code",
      "source": [
        "# 3.Write a code to slice the first 3 characters from the string \"Python Programming\""
      ],
      "metadata": {
        "id": "sysJxpTn8CW7"
      },
      "execution_count": 12,
      "outputs": []
    },
    {
      "cell_type": "code",
      "source": [
        "name=\"Python programming\"\n",
        "sliced_name=name[0:3]\n",
        "print(\"The first 3 charaters from the string are:\",sliced_name)"
      ],
      "metadata": {
        "colab": {
          "base_uri": "https://localhost:8080/"
        },
        "id": "RtdNvhjk8HKN",
        "outputId": "56af9fee-1129-4f99-d686-a177bf280b30"
      },
      "execution_count": 13,
      "outputs": [
        {
          "output_type": "stream",
          "name": "stdout",
          "text": [
            "The first 3 charaters from the string are: Pyt\n"
          ]
        }
      ]
    },
    {
      "cell_type": "code",
      "source": [
        "# 4.Write a code to convert the string \"hello\" to uppercase."
      ],
      "metadata": {
        "id": "BYCZrxAu8e-2"
      },
      "execution_count": 14,
      "outputs": []
    },
    {
      "cell_type": "code",
      "source": [
        "name=\"hello\"\n",
        "upper_name=name.upper()\n",
        "print(\"The converted string to uppercase is:\",upper_name)"
      ],
      "metadata": {
        "colab": {
          "base_uri": "https://localhost:8080/"
        },
        "id": "aB5TqM-X8ouf",
        "outputId": "737a0d75-4ace-41b7-accf-4bdb54dda8e1"
      },
      "execution_count": 15,
      "outputs": [
        {
          "output_type": "stream",
          "name": "stdout",
          "text": [
            "The converted string to uppercase is: HELLO\n"
          ]
        }
      ]
    },
    {
      "cell_type": "code",
      "source": [
        "# 5.Write a code to replace the word \"apple\" with \"orange\" in the string \"I like apple\"."
      ],
      "metadata": {
        "id": "30MZndq589QV"
      },
      "execution_count": null,
      "outputs": []
    },
    {
      "cell_type": "code",
      "source": [
        "fruits=(\"I like apple\")\n",
        "replaced_fruit=fruits.replace(\"apple\",\"orange\")\n",
        "print(\"The replaced string is:\",replaced_fruit)"
      ],
      "metadata": {
        "colab": {
          "base_uri": "https://localhost:8080/"
        },
        "id": "fRzqjWkZ7-ew",
        "outputId": "31171f8a-50d5-40f6-bd32-7b5774a6d9eb"
      },
      "execution_count": 17,
      "outputs": [
        {
          "output_type": "stream",
          "name": "stdout",
          "text": [
            "The replaced string is: I like orange\n"
          ]
        }
      ]
    },
    {
      "cell_type": "code",
      "source": [
        "# 6.Write a code to create a list with numbers 1 to 5 and print it."
      ],
      "metadata": {
        "id": "5FxYOCQa9wAI"
      },
      "execution_count": 18,
      "outputs": []
    },
    {
      "cell_type": "code",
      "source": [
        "list=[1,2,3,4,5]\n",
        "print(\"The list is:\",list)"
      ],
      "metadata": {
        "colab": {
          "base_uri": "https://localhost:8080/"
        },
        "id": "7MIn_wki94G7",
        "outputId": "a626015e-2ee3-44f6-c6b8-0cd5bc49d727"
      },
      "execution_count": 19,
      "outputs": [
        {
          "output_type": "stream",
          "name": "stdout",
          "text": [
            "The list is: [1, 2, 3, 4, 5]\n"
          ]
        }
      ]
    },
    {
      "cell_type": "code",
      "source": [
        "# 7.Write a code to append the number 10 to the list [1, 2, 3, 4]."
      ],
      "metadata": {
        "id": "ebggPSNE-AHX"
      },
      "execution_count": 20,
      "outputs": []
    },
    {
      "cell_type": "code",
      "source": [
        "numbers=[1, 2, 3, 4]\n",
        "numbers.append(10)\n",
        "print(\"Updated list:\",numbers)"
      ],
      "metadata": {
        "colab": {
          "base_uri": "https://localhost:8080/"
        },
        "id": "U62vk2Qr-LNM",
        "outputId": "56f6027a-8ef4-4379-f5ff-3529f4b366ae"
      },
      "execution_count": 26,
      "outputs": [
        {
          "output_type": "stream",
          "name": "stdout",
          "text": [
            "Updated list: [1, 2, 3, 4, 10]\n"
          ]
        }
      ]
    },
    {
      "cell_type": "code",
      "source": [
        "# 8.Write a code to remove the number 3 from the list [1, 2, 3, 4, 5]."
      ],
      "metadata": {
        "id": "CcsI91gh--N1"
      },
      "execution_count": 27,
      "outputs": []
    },
    {
      "cell_type": "code",
      "source": [
        "number=[1,2,3,4,5]\n",
        "number.remove(3)\n",
        "print(\"The removed number is:\",number)"
      ],
      "metadata": {
        "colab": {
          "base_uri": "https://localhost:8080/"
        },
        "id": "mcXlQBOl_DgD",
        "outputId": "3c274fa6-2972-400a-996b-b91f44e2903a"
      },
      "execution_count": 29,
      "outputs": [
        {
          "output_type": "stream",
          "name": "stdout",
          "text": [
            "The removed number is: [1, 2, 4, 5]\n"
          ]
        }
      ]
    },
    {
      "cell_type": "code",
      "source": [
        "# 9.Write a code to access the second element in the list ['a', 'b', 'c', 'd']."
      ],
      "metadata": {
        "id": "LkidQUGb_hh7"
      },
      "execution_count": 30,
      "outputs": []
    },
    {
      "cell_type": "code",
      "source": [
        "list=['a','b','c','d']\n",
        "new=list[1]\n",
        "print(\"The second element is:\",new)"
      ],
      "metadata": {
        "colab": {
          "base_uri": "https://localhost:8080/"
        },
        "id": "kCQLVFah_oIJ",
        "outputId": "d50a262f-a2df-4a2f-dcb8-f74495155f06"
      },
      "execution_count": 34,
      "outputs": [
        {
          "output_type": "stream",
          "name": "stdout",
          "text": [
            "The second element is: b\n"
          ]
        }
      ]
    },
    {
      "cell_type": "code",
      "source": [
        "# 10.Write a code to reverse the list [10, 20, 30, 40, 50]."
      ],
      "metadata": {
        "id": "Z7uGdj61AGSt"
      },
      "execution_count": null,
      "outputs": []
    },
    {
      "cell_type": "code",
      "source": [
        "list=[10,20,30,40,50]\n",
        "list.reverse()\n",
        "print(\"Reversed List:\",list)"
      ],
      "metadata": {
        "colab": {
          "base_uri": "https://localhost:8080/"
        },
        "id": "a568L5u9AA9W",
        "outputId": "8bebbe7d-1d95-4da0-cbb5-04ad92a94699"
      },
      "execution_count": 43,
      "outputs": [
        {
          "output_type": "stream",
          "name": "stdout",
          "text": [
            "Reversed List: [50, 40, 30, 20, 10]\n"
          ]
        }
      ]
    },
    {
      "cell_type": "code",
      "source": [
        "# 11.Write a code to create a tuple with the elements 100, 200, 300 and print it."
      ],
      "metadata": {
        "id": "-i6G-zx_BIHb"
      },
      "execution_count": null,
      "outputs": []
    },
    {
      "cell_type": "code",
      "source": [
        "my_tuple=(100,200,300)\n",
        "print(\"The Tuple elements are:\",my_tuple)"
      ],
      "metadata": {
        "colab": {
          "base_uri": "https://localhost:8080/"
        },
        "id": "fEfF8TXTA_Wi",
        "outputId": "c985a467-a093-43be-fd7d-6b14daaf6b02"
      },
      "execution_count": 45,
      "outputs": [
        {
          "output_type": "stream",
          "name": "stdout",
          "text": [
            "The Tuple elements are: (100, 200, 300)\n"
          ]
        }
      ]
    },
    {
      "cell_type": "code",
      "source": [
        "# 12.Write a code to access the second-to-last element of the tuple ('red', 'green', 'blue', 'yellow')."
      ],
      "metadata": {
        "id": "pAqkXtEDB5R0"
      },
      "execution_count": 46,
      "outputs": []
    },
    {
      "cell_type": "code",
      "source": [
        "my_tuple=('red','green','blue','yellow')\n",
        "second_last=my_tuple[-2]\n",
        "print(\"The second last element is:\",second_last)"
      ],
      "metadata": {
        "colab": {
          "base_uri": "https://localhost:8080/"
        },
        "id": "NUQ17idQCInQ",
        "outputId": "e9681f71-f526-468f-9321-308a4d01b4f8"
      },
      "execution_count": 53,
      "outputs": [
        {
          "output_type": "stream",
          "name": "stdout",
          "text": [
            "The second last element is: blue\n"
          ]
        }
      ]
    },
    {
      "cell_type": "code",
      "source": [
        "# 13. Write a code to find the minimum number in the tuple (10, 20, 5, 15)."
      ],
      "metadata": {
        "id": "aTNlR4mHC2v3"
      },
      "execution_count": null,
      "outputs": []
    },
    {
      "cell_type": "code",
      "source": [
        "my_tuple=(10,20,5,15)\n",
        "min_value=min(my_tuple)\n",
        "print(\"The minimum number is:\",min_value)"
      ],
      "metadata": {
        "colab": {
          "base_uri": "https://localhost:8080/"
        },
        "id": "TMKB2roSCzBK",
        "outputId": "a65ac960-a411-478f-ba06-cbc84bc888c4"
      },
      "execution_count": 54,
      "outputs": [
        {
          "output_type": "stream",
          "name": "stdout",
          "text": [
            "The minimum number is: 5\n"
          ]
        }
      ]
    },
    {
      "cell_type": "code",
      "source": [
        "# 14. Write a code to find the index of the element \"cat\" in the tuple ('dog', 'cat', 'rabbit')."
      ],
      "metadata": {
        "id": "7N-p3-e3DSRm"
      },
      "execution_count": 55,
      "outputs": []
    },
    {
      "cell_type": "code",
      "source": [
        "my_tuple=('dog','cat','rabbit')\n",
        "index=my_tuple.index('cat')\n",
        "print(\"The index of element 'cat' is:\",index)"
      ],
      "metadata": {
        "colab": {
          "base_uri": "https://localhost:8080/"
        },
        "id": "GWG5LHBxDigz",
        "outputId": "0437ebc1-ca02-4605-8943-0b8f225f2b5f"
      },
      "execution_count": 59,
      "outputs": [
        {
          "output_type": "stream",
          "name": "stdout",
          "text": [
            "The index of element 'cat' is: 1\n"
          ]
        }
      ]
    },
    {
      "cell_type": "code",
      "source": [
        "# 15.Write a code to create a tuple containing three different fruits and check if \"kiwi\" is in it."
      ],
      "metadata": {
        "id": "fVRlYpWuEAwe"
      },
      "execution_count": null,
      "outputs": []
    },
    {
      "cell_type": "code",
      "source": [
        "fruits=(\"banana\",\"kiwi\",\"grapes\")\n",
        "if \"kiwi\" in fruits:\n",
        "  print(\"kiwi is in the tuple\")\n",
        "else:\n",
        "  print(\"kiwi is not in the tuple\")"
      ],
      "metadata": {
        "colab": {
          "base_uri": "https://localhost:8080/"
        },
        "id": "jFxgvo78D-uY",
        "outputId": "46caa5a2-96d8-46a0-d179-cbbeac12510e"
      },
      "execution_count": 60,
      "outputs": [
        {
          "output_type": "stream",
          "name": "stdout",
          "text": [
            "kiwi is in the tuple\n"
          ]
        }
      ]
    },
    {
      "cell_type": "code",
      "source": [
        "# 16.Write a code to create a set with the elements 'a', 'b', 'c' and print it."
      ],
      "metadata": {
        "id": "mOTP5Q8yEqn4"
      },
      "execution_count": null,
      "outputs": []
    },
    {
      "cell_type": "code",
      "source": [
        "my_set={'a','b','c'}\n",
        "print(\"My sets is:\",my_set)"
      ],
      "metadata": {
        "colab": {
          "base_uri": "https://localhost:8080/"
        },
        "id": "ikN3av2tD8lM",
        "outputId": "7d4da94f-f0b3-49c3-9bcb-d2f0f959cad3"
      },
      "execution_count": 62,
      "outputs": [
        {
          "output_type": "stream",
          "name": "stdout",
          "text": [
            "My sets is: {'b', 'a', 'c'}\n"
          ]
        }
      ]
    },
    {
      "cell_type": "code",
      "source": [
        "# 17.Write a code to clear all elements from the set {1, 2, 3, 4, 5}."
      ],
      "metadata": {
        "id": "OEVNwaGpE7iD"
      },
      "execution_count": 63,
      "outputs": []
    },
    {
      "cell_type": "code",
      "source": [
        "my_sets={'a','b','c'}\n",
        "my_sets.clear()\n",
        "print(\"My sets has been cleared:\",my_sets)"
      ],
      "metadata": {
        "colab": {
          "base_uri": "https://localhost:8080/"
        },
        "id": "d8IxA5t_FA9U",
        "outputId": "e17b121c-48a7-4c26-890b-73ae4fcbf048"
      },
      "execution_count": 64,
      "outputs": [
        {
          "output_type": "stream",
          "name": "stdout",
          "text": [
            "My sets has been cleared: set()\n"
          ]
        }
      ]
    },
    {
      "cell_type": "code",
      "source": [
        "# 18.Write a code to remove the element 4 from the set {1, 2, 3, 4}."
      ],
      "metadata": {
        "id": "7Be7Vho_FOpj"
      },
      "execution_count": null,
      "outputs": []
    },
    {
      "cell_type": "code",
      "source": [
        "my_sets={1,2,3,4}\n",
        "my_sets.remove(4)\n",
        "print(\"The removed element is:\",my_sets)"
      ],
      "metadata": {
        "colab": {
          "base_uri": "https://localhost:8080/"
        },
        "id": "dZy4KNx2E6gz",
        "outputId": "255ff40c-dbb8-416d-f8fd-4f2d7b707d1b"
      },
      "execution_count": 65,
      "outputs": [
        {
          "output_type": "stream",
          "name": "stdout",
          "text": [
            "The removed element is: {1, 2, 3}\n"
          ]
        }
      ]
    },
    {
      "cell_type": "code",
      "source": [
        "# 19. Write a code to find the union of two sets {1, 2, 3} and {3, 4, 5}."
      ],
      "metadata": {
        "id": "usa2hv3uFjVm"
      },
      "execution_count": 66,
      "outputs": []
    },
    {
      "cell_type": "code",
      "source": [
        "set1={1,2,3}\n",
        "set2={3,4,5}\n",
        "new_union=set1.union(set2)\n",
        "print(\"The union of two sets is:\",new_union)"
      ],
      "metadata": {
        "colab": {
          "base_uri": "https://localhost:8080/"
        },
        "id": "P-0mO_8zFoII",
        "outputId": "f2a61eb7-4b49-4a11-d2c6-ef95d73a5e90"
      },
      "execution_count": 68,
      "outputs": [
        {
          "output_type": "stream",
          "name": "stdout",
          "text": [
            "The union of two sets is: {1, 2, 3, 4, 5}\n"
          ]
        }
      ]
    },
    {
      "cell_type": "code",
      "source": [
        "# 20. Write a code to find the intersection of two sets {1, 2, 3} and {2, 3, 4}."
      ],
      "metadata": {
        "id": "tbLOwPBkGEOR"
      },
      "execution_count": 69,
      "outputs": []
    },
    {
      "cell_type": "code",
      "source": [
        "set1={1,2,3}\n",
        "set2={2,3,4}\n",
        "new_inter=set1.intersection(set2)\n",
        "print(\"The intersection of two sets is:\",new_inter)"
      ],
      "metadata": {
        "colab": {
          "base_uri": "https://localhost:8080/"
        },
        "id": "SSeYZIpYGJVO",
        "outputId": "10243eda-4388-42e5-af76-7529485338fe"
      },
      "execution_count": 71,
      "outputs": [
        {
          "output_type": "stream",
          "name": "stdout",
          "text": [
            "The intersection of two sets is: {2, 3}\n"
          ]
        }
      ]
    },
    {
      "cell_type": "code",
      "source": [
        "# 21.Write a code to create a dictionary with the keys \"name\", \"age\", and \"city\", and print it."
      ],
      "metadata": {
        "id": "o2m7TR2GGnMG"
      },
      "execution_count": null,
      "outputs": []
    },
    {
      "cell_type": "code",
      "source": [
        "my_dict={\"name\":\"Mayank Veer Singh\",\"age\":25,\"city\":\"Lucknow\"}\n",
        "print(\"My dictionary is:\",my_dict)"
      ],
      "metadata": {
        "colab": {
          "base_uri": "https://localhost:8080/"
        },
        "id": "JZOEVeMEGg2X",
        "outputId": "5c542b38-819b-4125-e821-bd8dd1a8835a"
      },
      "execution_count": 73,
      "outputs": [
        {
          "output_type": "stream",
          "name": "stdout",
          "text": [
            "My dictionary is: {'name': 'Mayank Veer Singh', 'age': 25, 'city': 'Lucknow'}\n"
          ]
        }
      ]
    },
    {
      "cell_type": "code",
      "source": [
        "# 22.Write a code to add a new key-value pair \"country\": \"USA\" to the dictionary {'name': 'John', 'age': 25}."
      ],
      "metadata": {
        "id": "kMSETd_xHIJs"
      },
      "execution_count": null,
      "outputs": []
    },
    {
      "cell_type": "code",
      "source": [
        "person = {'name': 'John', 'age': 25}\n",
        "person['country'] = 'USA'\n",
        "print(\"Updated dictionary:\", person)"
      ],
      "metadata": {
        "colab": {
          "base_uri": "https://localhost:8080/"
        },
        "id": "9sSgTfl5G9Xn",
        "outputId": "94f477f0-9f4b-4ad4-ae47-223382084a5f"
      },
      "execution_count": 74,
      "outputs": [
        {
          "output_type": "stream",
          "name": "stdout",
          "text": [
            "Updated dictionary: {'name': 'John', 'age': 25, 'country': 'USA'}\n"
          ]
        }
      ]
    },
    {
      "cell_type": "code",
      "source": [
        "# 23. Write a code to access the value associated with the key \"name\" in the dictionary {'name': 'Alice', 'age': 30}."
      ],
      "metadata": {
        "id": "Rd1AG4wxHc3T"
      },
      "execution_count": 75,
      "outputs": []
    },
    {
      "cell_type": "code",
      "source": [
        "person = {'name': 'Alice', 'age': 30}\n",
        "name_value = person['name']\n",
        "print(\"The value associated with 'name' is:\", name_value)"
      ],
      "metadata": {
        "colab": {
          "base_uri": "https://localhost:8080/"
        },
        "id": "-U1GLr0rF6i9",
        "outputId": "dbf1e3ce-62eb-4d86-8b84-20bcbb26b728"
      },
      "execution_count": 76,
      "outputs": [
        {
          "output_type": "stream",
          "name": "stdout",
          "text": [
            "The value associated with 'name' is: Alice\n"
          ]
        }
      ]
    },
    {
      "cell_type": "code",
      "source": [
        "# 24.Write a code to remove the key \"age\" from the dictionary {'name': 'Bob', 'age': 22, 'city': 'New York'}."
      ],
      "metadata": {
        "id": "FvFqD42YHujB"
      },
      "execution_count": null,
      "outputs": []
    },
    {
      "cell_type": "code",
      "source": [
        "person = {'name': 'Bob', 'age': 22, 'city': 'New York'}\n",
        "person.pop('age')\n",
        "print(\"Updated dictionary:\", person)"
      ],
      "metadata": {
        "colab": {
          "base_uri": "https://localhost:8080/"
        },
        "id": "WuhLcQHSD0xP",
        "outputId": "63b98625-bdd6-47e3-b2b5-31ecdf9914ec"
      },
      "execution_count": 77,
      "outputs": [
        {
          "output_type": "stream",
          "name": "stdout",
          "text": [
            "Updated dictionary: {'name': 'Bob', 'city': 'New York'}\n"
          ]
        }
      ]
    },
    {
      "cell_type": "code",
      "source": [
        "# 25.Write a code to check if the key \"city\" exists in the dictionary {'name': 'Alice', 'city': 'Paris'}."
      ],
      "metadata": {
        "id": "c8roGQS3H8-W"
      },
      "execution_count": null,
      "outputs": []
    },
    {
      "cell_type": "code",
      "source": [
        "person = {'name': 'Alice', 'city': 'Paris'}\n",
        "if 'city' in person:\n",
        "    print(\"The key 'city' exists in the dictionary.\")\n",
        "else:\n",
        "    print(\"The key 'city' does not exist in the dictionary.\")"
      ],
      "metadata": {
        "colab": {
          "base_uri": "https://localhost:8080/"
        },
        "id": "hKJ3kg0ZCsoZ",
        "outputId": "b2001852-1115-4495-9d97-358918ae4059"
      },
      "execution_count": 78,
      "outputs": [
        {
          "output_type": "stream",
          "name": "stdout",
          "text": [
            "The key 'city' exists in the dictionary.\n"
          ]
        }
      ]
    },
    {
      "cell_type": "code",
      "source": [
        "# 26.Write a code to create a list, a tuple, and a dictionary, and print them all."
      ],
      "metadata": {
        "id": "ElNyqQBsIH4p"
      },
      "execution_count": 79,
      "outputs": []
    },
    {
      "cell_type": "code",
      "source": [
        "my_list = [1, 2, 3, 4, 5]\n",
        "my_tuple = ('apple', 'banana', 'cherry')\n",
        "my_dict = {'name': 'Alice', 'age': 30, 'city': 'Paris'}\n",
        "print(\"List:\", my_list)\n",
        "print(\"Tuple:\", my_tuple)\n",
        "print(\"Dictionary:\", my_dict)"
      ],
      "metadata": {
        "colab": {
          "base_uri": "https://localhost:8080/"
        },
        "id": "i1FBukE0ITK_",
        "outputId": "b41acc23-35e6-4ac0-ed51-503503a2110a"
      },
      "execution_count": 80,
      "outputs": [
        {
          "output_type": "stream",
          "name": "stdout",
          "text": [
            "List: [1, 2, 3, 4, 5]\n",
            "Tuple: ('apple', 'banana', 'cherry')\n",
            "Dictionary: {'name': 'Alice', 'age': 30, 'city': 'Paris'}\n"
          ]
        }
      ]
    },
    {
      "cell_type": "code",
      "source": [
        "# 27.Write a code to create a list of 5 random numbers between 1 and 100, sort it in ascending order, and print the\n",
        "#result.(replaced)"
      ],
      "metadata": {
        "id": "QOw9R3PHIWZJ"
      },
      "execution_count": null,
      "outputs": []
    },
    {
      "cell_type": "code",
      "source": [
        "import random\n",
        "random_numbers = [random.randint(1, 100) for _ in range(5)]\n",
        "random_numbers.sort()\n",
        "print(\"Sorted random numbers:\", random_numbers)"
      ],
      "metadata": {
        "colab": {
          "base_uri": "https://localhost:8080/"
        },
        "id": "2OL_P4dhCl6w",
        "outputId": "5991112e-1515-4ad5-be3e-f790f3b5cd47"
      },
      "execution_count": 84,
      "outputs": [
        {
          "output_type": "stream",
          "name": "stdout",
          "text": [
            "Sorted random numbers: [18, 32, 71, 71, 79]\n"
          ]
        }
      ]
    },
    {
      "cell_type": "code",
      "source": [
        "# 28.Write a code to create a list with strings and print the element at the third index."
      ],
      "metadata": {
        "id": "GGZtBdGLI7nw"
      },
      "execution_count": 85,
      "outputs": []
    },
    {
      "cell_type": "code",
      "source": [
        "words = [\"apple\", \"banana\", \"cherry\", \"date\", \"fig\"]\n",
        "print(\"Element at index 3:\", words[3])"
      ],
      "metadata": {
        "colab": {
          "base_uri": "https://localhost:8080/"
        },
        "id": "GJ2z2qE9JCrN",
        "outputId": "332d8cb4-75c2-4abb-b972-84b7a3736154"
      },
      "execution_count": 86,
      "outputs": [
        {
          "output_type": "stream",
          "name": "stdout",
          "text": [
            "Element at index 3: date\n"
          ]
        }
      ]
    },
    {
      "cell_type": "code",
      "source": [
        "# 29. Write a code to combine two dictionaries into one and print the result."
      ],
      "metadata": {
        "id": "F7gtI_S0JIy7"
      },
      "execution_count": 87,
      "outputs": []
    },
    {
      "cell_type": "code",
      "source": [
        "dict1 = {'a': 1, 'b': 2}\n",
        "dict2 = {'c': 3, 'd': 4}\n",
        "combined_dict = {**dict1, **dict2}\n",
        "print(\"Combined dictionary:\", combined_dict)"
      ],
      "metadata": {
        "colab": {
          "base_uri": "https://localhost:8080/"
        },
        "id": "innPCrJUJMuw",
        "outputId": "db57e60f-9614-4126-cc44-0c4c820061b8"
      },
      "execution_count": 88,
      "outputs": [
        {
          "output_type": "stream",
          "name": "stdout",
          "text": [
            "Combined dictionary: {'a': 1, 'b': 2, 'c': 3, 'd': 4}\n"
          ]
        }
      ]
    },
    {
      "cell_type": "code",
      "source": [
        "# 30.Write a code to convert a list of strings into a set."
      ],
      "metadata": {
        "id": "3LONe2AiJaHr"
      },
      "execution_count": null,
      "outputs": []
    },
    {
      "cell_type": "code",
      "source": [
        "string_list = [\"apple\", \"banana\", \"cherry\", \"apple\"]\n",
        "string_set = set(string_list)\n",
        "print(\"Set:\", string_set)"
      ],
      "metadata": {
        "colab": {
          "base_uri": "https://localhost:8080/"
        },
        "id": "Gdl9CIs2I4Pn",
        "outputId": "712baf34-56c7-48f4-c22d-7a10ca168941"
      },
      "execution_count": 89,
      "outputs": [
        {
          "output_type": "stream",
          "name": "stdout",
          "text": [
            "Set: {'cherry', 'apple', 'banana'}\n"
          ]
        }
      ]
    },
    {
      "cell_type": "code",
      "source": [],
      "metadata": {
        "id": "H6dTKynEJkeS"
      },
      "execution_count": null,
      "outputs": []
    },
    {
      "cell_type": "code",
      "source": [],
      "metadata": {
        "id": "NRlqOuWEIz0N"
      },
      "execution_count": null,
      "outputs": []
    },
    {
      "cell_type": "code",
      "source": [],
      "metadata": {
        "id": "KejRA4W1Iyrm"
      },
      "execution_count": null,
      "outputs": []
    },
    {
      "cell_type": "code",
      "source": [],
      "metadata": {
        "id": "U--dORuVCkgj"
      },
      "execution_count": null,
      "outputs": []
    },
    {
      "cell_type": "code",
      "source": [],
      "metadata": {
        "id": "CJAX1KNsCYLU"
      },
      "execution_count": null,
      "outputs": []
    },
    {
      "cell_type": "code",
      "source": [],
      "metadata": {
        "id": "Gw0DzzSrCVwC"
      },
      "execution_count": null,
      "outputs": []
    },
    {
      "cell_type": "code",
      "source": [],
      "metadata": {
        "id": "yVzXgBPWBaA7"
      },
      "execution_count": null,
      "outputs": []
    },
    {
      "cell_type": "code",
      "source": [],
      "metadata": {
        "id": "4qIRNji4A9nF"
      },
      "execution_count": null,
      "outputs": []
    },
    {
      "cell_type": "code",
      "source": [],
      "metadata": {
        "id": "g-Xl4zMoAyV5"
      },
      "execution_count": null,
      "outputs": []
    },
    {
      "cell_type": "code",
      "source": [],
      "metadata": {
        "id": "KL_2BOKLAxMw"
      },
      "execution_count": null,
      "outputs": []
    },
    {
      "cell_type": "code",
      "source": [],
      "metadata": {
        "id": "OMI0GIqnAcvl"
      },
      "execution_count": null,
      "outputs": []
    },
    {
      "cell_type": "code",
      "source": [],
      "metadata": {
        "id": "zLy0qyBNAaJ4"
      },
      "execution_count": null,
      "outputs": []
    },
    {
      "cell_type": "code",
      "source": [],
      "metadata": {
        "id": "1Z67rISfAW9v"
      },
      "execution_count": null,
      "outputs": []
    },
    {
      "cell_type": "code",
      "source": [],
      "metadata": {
        "id": "Pd0BA27xAUfz"
      },
      "execution_count": null,
      "outputs": []
    },
    {
      "cell_type": "code",
      "source": [],
      "metadata": {
        "id": "7M6omNXR_87r"
      },
      "execution_count": null,
      "outputs": []
    },
    {
      "cell_type": "code",
      "source": [],
      "metadata": {
        "id": "pizwnj4O_1nk"
      },
      "execution_count": null,
      "outputs": []
    },
    {
      "cell_type": "code",
      "source": [],
      "metadata": {
        "id": "u6eDlGlz_gme"
      },
      "execution_count": null,
      "outputs": []
    },
    {
      "cell_type": "code",
      "source": [],
      "metadata": {
        "id": "n0wtZoWo-6Gx"
      },
      "execution_count": null,
      "outputs": []
    },
    {
      "cell_type": "code",
      "source": [],
      "metadata": {
        "id": "HnoCyLcS-yYb"
      },
      "execution_count": null,
      "outputs": []
    },
    {
      "cell_type": "code",
      "source": [],
      "metadata": {
        "id": "NfjhqPZB-uKN"
      },
      "execution_count": null,
      "outputs": []
    },
    {
      "cell_type": "code",
      "source": [],
      "metadata": {
        "id": "dNkFSuYW-b81"
      },
      "execution_count": null,
      "outputs": []
    },
    {
      "cell_type": "code",
      "source": [],
      "metadata": {
        "id": "ddC6NtP_-ZrW"
      },
      "execution_count": null,
      "outputs": []
    },
    {
      "cell_type": "code",
      "source": [],
      "metadata": {
        "id": "NUZnITjF9n_r"
      },
      "execution_count": null,
      "outputs": []
    },
    {
      "cell_type": "code",
      "source": [],
      "metadata": {
        "id": "aaqAr1bp7t5Q"
      },
      "execution_count": null,
      "outputs": []
    },
    {
      "cell_type": "code",
      "source": [],
      "metadata": {
        "id": "_vD2wJ9n7rj5"
      },
      "execution_count": null,
      "outputs": []
    },
    {
      "cell_type": "code",
      "source": [],
      "metadata": {
        "id": "Eiq4vm7H7l3U"
      },
      "execution_count": null,
      "outputs": []
    },
    {
      "cell_type": "code",
      "source": [],
      "metadata": {
        "id": "VJBT8fUG7WJB"
      },
      "execution_count": null,
      "outputs": []
    },
    {
      "cell_type": "code",
      "source": [],
      "metadata": {
        "id": "fgPt4XPp7U_x"
      },
      "execution_count": null,
      "outputs": []
    },
    {
      "cell_type": "code",
      "source": [],
      "metadata": {
        "id": "6AwZdlVB65Uq"
      },
      "execution_count": null,
      "outputs": []
    },
    {
      "cell_type": "code",
      "source": [],
      "metadata": {
        "id": "y6O8Tabtn1-P"
      },
      "execution_count": null,
      "outputs": []
    }
  ]
}